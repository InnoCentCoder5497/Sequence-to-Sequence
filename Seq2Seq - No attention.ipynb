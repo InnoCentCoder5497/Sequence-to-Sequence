{
 "cells": [
  {
   "cell_type": "code",
   "execution_count": 1,
   "metadata": {},
   "outputs": [],
   "source": [
    "import pickle\n",
    "import pandas as pd\n",
    "import copy\n",
    "import torch\n",
    "import numpy as np\n",
    "import math\n",
    "import random\n",
    "from tqdm.autonotebook import tqdm"
   ]
  },
  {
   "cell_type": "code",
   "execution_count": 2,
   "metadata": {},
   "outputs": [],
   "source": [
    "with open(\"toy_dataset.pkl\", \"rb\") as f:\n",
    "    everything = pickle.load(f)"
   ]
  },
  {
   "cell_type": "code",
   "execution_count": 3,
   "metadata": {},
   "outputs": [],
   "source": [
    "train_df = pd.DataFrame({'x' : everything['train'][0], 'y' : everything['train'][1]})\n",
    "test_df = pd.DataFrame({'x' : everything['test'][0], 'y' : everything['test'][1]})\n",
    "val_df = pd.DataFrame({'x' : everything['val'][0], 'y' : everything['val'][1]})"
   ]
  },
  {
   "cell_type": "code",
   "execution_count": 4,
   "metadata": {},
   "outputs": [],
   "source": [
    "from torch.utils.data import Dataset, DataLoader"
   ]
  },
  {
   "cell_type": "code",
   "execution_count": 5,
   "metadata": {},
   "outputs": [],
   "source": [
    "class S2SDataset(Dataset):\n",
    "    def __init__(self, df, eos):\n",
    "        self.df = df\n",
    "        self.eos = eos\n",
    "    \n",
    "    def __len__(self):\n",
    "        return len(self.df)\n",
    "    \n",
    "    def __getitem__(self, idx):\n",
    "        X = copy.copy(self.df.iloc[idx][0])\n",
    "        Y = copy.copy(self.df.iloc[idx][1])\n",
    "        \n",
    "        X.append(self.eos)\n",
    "        Y.append(self.eos)\n",
    "        \n",
    "        return (X, Y)"
   ]
  },
  {
   "cell_type": "code",
   "execution_count": 6,
   "metadata": {},
   "outputs": [],
   "source": [
    "def MyDataLoader(dataset, idxs, batch_sizes, boundaries, pad_value, num_batchs = 600):\n",
    "    bucket_src = [[] for _ in range(len(batch_sizes))]\n",
    "    bucket_dst = [[] for _ in range(len(batch_sizes))]\n",
    "    \n",
    "    boundaries = boundaries + [math.inf]\n",
    "    count = 0\n",
    "    for idx in idxs:\n",
    "        sent, trans = train_data[idx]\n",
    "        length = len(sent)\n",
    "\n",
    "        bucket_idx = min([i for i, b in enumerate(boundaries) if length <= b])\n",
    "        bucket_src[bucket_idx].append(sent)\n",
    "        bucket_dst[bucket_idx].append(trans)\n",
    "\n",
    "        if len(bucket_src[bucket_idx]) == batch_sizes[bucket_idx]:\n",
    "            count += 1\n",
    "            batch_x = []\n",
    "            batch_y = []\n",
    "            for x, y in zip(bucket_src[bucket_idx], bucket_dst[bucket_idx]):\n",
    "                batch_x.append(pad_sequence(x, boundaries[bucket_idx], pad_value))\n",
    "                batch_y.append(pad_sequence(y, boundaries[bucket_idx], pad_value))\n",
    "                \n",
    "            yield torch.LongTensor(batch_x), torch.LongTensor(batch_y)\n",
    "            if(count == num_batchs):\n",
    "                break\n",
    "            bucket_src[bucket_idx] = []\n",
    "            bucket_dst[bucket_idx] = []\n",
    "\n",
    "def pad_sequence(ex, max_len, pad_value):\n",
    "    ex = np.array(ex)\n",
    "    \n",
    "    ex = np.pad(ex, (0, max_len - len(ex)), constant_values = pad_value)\n",
    "    return ex"
   ]
  },
  {
   "cell_type": "code",
   "execution_count": 7,
   "metadata": {},
   "outputs": [],
   "source": [
    "import torch\n",
    "import torch.nn as nn\n",
    "import torch.optim as optim"
   ]
  },
  {
   "cell_type": "code",
   "execution_count": 8,
   "metadata": {},
   "outputs": [],
   "source": [
    "class Encoder(nn.Module):\n",
    "    def __init__(self, vocab_size, emb_size, hidden_size):\n",
    "        super(Encoder, self).__init__()\n",
    "        self.emb = nn.Embedding(vocab_size, emb_size)\n",
    "        self.cell = nn.GRU(emb_size, hidden_size, batch_first = True)\n",
    "        \n",
    "    def forward(self, x):\n",
    "        x = self.emb(x)\n",
    "        _, hidden = self.cell(x)\n",
    "        \n",
    "        return hidden"
   ]
  },
  {
   "cell_type": "code",
   "execution_count": 9,
   "metadata": {},
   "outputs": [],
   "source": [
    "class Decoder(nn.Module):\n",
    "    def __init__(self, vocab_size, emb_size, hidden_size):\n",
    "        super(Decoder, self).__init__()\n",
    "        \n",
    "        self.emb = nn.Embedding(vocab_size, emb_size)\n",
    "        self.cell = nn.GRU(emb_size, hidden_size, batch_first = True)\n",
    "        \n",
    "        self.outt = nn.Linear(hidden_size, vocab_size)\n",
    "        self.logsoftmax = nn.LogSoftmax(dim = 1)\n",
    "        \n",
    "    def forward(self, x, hidden):\n",
    "        x = self.emb(x)\n",
    "        \n",
    "        out, hidden = self.cell(x, hidden)\n",
    "        \n",
    "        out = self.outt(out.squeeze(1))\n",
    "        \n",
    "        return self.logsoftmax(out), hidden"
   ]
  },
  {
   "cell_type": "code",
   "execution_count": 10,
   "metadata": {},
   "outputs": [],
   "source": [
    "import nltk\n",
    "from nltk.corpus import stopwords\n",
    "from nltk.translate.bleu_score import sentence_bleu, corpus_bleu\n",
    "from nltk.translate.bleu_score import SmoothingFunction\n",
    "words = stopwords.words('english')\n",
    "\n",
    "word2idx = {}\n",
    "\n",
    "for i in range(20):\n",
    "    word2idx[i] = words[i]\n",
    "\n",
    "idx2word = dict(zip(word2idx.values(), word2idx.keys()))\n",
    "\n",
    "chencherry = SmoothingFunction()"
   ]
  },
  {
   "cell_type": "code",
   "execution_count": 11,
   "metadata": {},
   "outputs": [],
   "source": [
    "dec = Decoder(20, 50, 32)\n",
    "enc = Encoder(20, 50, 32)\n",
    "\n",
    "batch_sizes = [64, 32, 8]\n",
    "boundaries = [6, 8, 10]\n",
    "\n",
    "loss = nn.NLLLoss()\n",
    "\n",
    "enc_opt = optim.Adam(enc.parameters(), lr = 0.001)\n",
    "dec_opt = optim.Adam(dec.parameters(), lr = 0.001)\n",
    "\n",
    "dec = dec.cuda()\n",
    "enc = enc.cuda()\n",
    "\n",
    "device = 'cuda'\n",
    "\n",
    "train_data = S2SDataset(train_df, everything['meta']['eos'])\n",
    "test_data = S2SDataset(test_df, everything['meta']['eos'])"
   ]
  },
  {
   "cell_type": "code",
   "execution_count": 12,
   "metadata": {},
   "outputs": [],
   "source": [
    "def get_loader(data, batch_sizes, boundaryies, pad_value):\n",
    "    idxs = list(range(len(data)))\n",
    "    random.shuffle(idxs)\n",
    "\n",
    "    loader = MyDataLoader(data, idxs, batch_sizes, boundaries, pad_value=0)\n",
    "    \n",
    "    return loader\n",
    "\n",
    "def format_for_bleu_score(sent_list, word2idx, is_ref = False):\n",
    "    ref = []\n",
    "    for r in sent_list.numpy():\n",
    "        if is_ref:\n",
    "            ref.append([list(map(lambda x: word2idx[x], r))])\n",
    "        else:            \n",
    "            ref.append(list(map(lambda x: word2idx[x], r)))\n",
    "            \n",
    "    return ref"
   ]
  },
  {
   "cell_type": "code",
   "execution_count": 13,
   "metadata": {},
   "outputs": [],
   "source": [
    "def run_val_set(loader, enc, dec, loss_func):\n",
    "    test_bleu = 0\n",
    "    total_cost = 0\n",
    "    count = 0\n",
    "    with torch.no_grad():\n",
    "        for j, (X, Y) in enumerate(loader):\n",
    "            X = X.to(device)\n",
    "            Y = Y.to(device)\n",
    "            \n",
    "            enc_hidden = enc(X)\n",
    "\n",
    "            SOS = torch.LongTensor([[0] * len(Y)]).to(device)\n",
    "            hidden = enc_hidden\n",
    "            y_in = SOS.view(-1, 1)\n",
    "            book = []\n",
    "\n",
    "            for i in range(Y.shape[1]):\n",
    "                out, hidden = dec(y_in, hidden)\n",
    "                book.append(out.squeeze(1))\n",
    "\n",
    "                _, next_in = out.topk(1)\n",
    "                y_in = next_in\n",
    "\n",
    "            pred = torch.stack(book, dim = 1)\n",
    "            pred = pred.permute(0, 2, 1)\n",
    "            cost = loss_func(pred, Y)\n",
    "        \n",
    "            _, pred_idx = pred.topk(1, dim = 1)\n",
    "\n",
    "            candidate = pred_idx.squeeze(1)\n",
    "            reference = Y\n",
    "\n",
    "            cand = format_for_bleu_score(candidate.cpu(), word2idx, is_ref=False)\n",
    "            refe = format_for_bleu_score(reference.cpu(), word2idx, is_ref=True)\n",
    "\n",
    "            test_bleu += corpus_bleu(refe, cand, smoothing_function=chencherry.method1)\n",
    "            total_cost += cost.item()\n",
    "            count += 1\n",
    "            \n",
    "    return test_bleu / count, total_cost / count"
   ]
  },
  {
   "cell_type": "code",
   "execution_count": 14,
   "metadata": {},
   "outputs": [],
   "source": [
    "import matplotlib.pyplot as plt\n",
    "\n",
    "class Book:\n",
    "    def __init__(self):\n",
    "        self.train_loss = []\n",
    "        self.val_loss = []\n",
    "        self.train_bleu = []\n",
    "        self.val_bleu = []\n",
    "        \n",
    "    def update_book(self, tloss, vloss, tbleu, vbleu):\n",
    "        self.train_loss.append(tloss)\n",
    "        self.val_loss.append(vloss)\n",
    "        self.train_bleu.append(tbleu)\n",
    "        self.val_bleu.append(vbleu)\n",
    "        \n",
    "    def plot_loss(self):\n",
    "        length = list(range(len(self.train_loss)))\n",
    "        \n",
    "        plt.plot(length, self.train_loss, label='Train Loss')\n",
    "        plt.plot(length, self.val_loss, label='Validation Loss')\n",
    "        plt.title(\"Loss Curves\")\n",
    "        plt.xlabel(\"Epochs\")\n",
    "        plt.ylabel(\"Loss\")\n",
    "        plt.legend()\n",
    "        \n",
    "        plt.show()\n",
    "        \n",
    "    def plot_bleu(self):\n",
    "        length = list(range(len(self.train_bleu)))\n",
    "        \n",
    "        plt.plot(length, self.train_bleu, label='Train Bleu')\n",
    "        plt.plot(length, self.val_bleu, label='Validation Bleu')\n",
    "        plt.title(\"Bleu Curves\")\n",
    "        plt.xlabel(\"Epochs\")\n",
    "        plt.ylabel(\"Bleu Score\")\n",
    "        plt.legend()\n",
    "        \n",
    "        plt.show()"
   ]
  },
  {
   "cell_type": "code",
   "execution_count": 15,
   "metadata": {},
   "outputs": [],
   "source": [
    "metrics = Book()"
   ]
  },
  {
   "cell_type": "code",
   "execution_count": 16,
   "metadata": {},
   "outputs": [
    {
     "data": {
      "application/vnd.jupyter.widget-view+json": {
       "model_id": "01c899ad0c254555878c9c00fa8b5f1b",
       "version_major": 2,
       "version_minor": 0
      },
      "text/plain": [
       "HBox(children=(FloatProgress(value=0.0, max=30.0), HTML(value='')))"
      ]
     },
     "metadata": {},
     "output_type": "display_data"
    },
    {
     "data": {
      "application/vnd.jupyter.widget-view+json": {
       "model_id": "cad64cfe39094beabf4fb661b9792e45",
       "version_major": 2,
       "version_minor": 0
      },
      "text/plain": [
       "HBox(children=(FloatProgress(value=0.0, max=600.0), HTML(value='')))"
      ]
     },
     "metadata": {},
     "output_type": "display_data"
    },
    {
     "name": "stdout",
     "output_type": "stream",
     "text": [
      "Epoch : 1 Loss : 2.438 Bleu : 2.3\n",
      "\n",
      "Bleu Score on Validation set : 4.1\n"
     ]
    },
    {
     "data": {
      "application/vnd.jupyter.widget-view+json": {
       "model_id": "c5a747a9636e4c6091a8f0f2e425deb6",
       "version_major": 2,
       "version_minor": 0
      },
      "text/plain": [
       "HBox(children=(FloatProgress(value=0.0, max=600.0), HTML(value='')))"
      ]
     },
     "metadata": {},
     "output_type": "display_data"
    },
    {
     "name": "stdout",
     "output_type": "stream",
     "text": [
      "Epoch : 2 Loss : 2.026 Bleu : 5.07\n",
      "\n",
      "Bleu Score on Validation set : 5.7\n"
     ]
    },
    {
     "data": {
      "application/vnd.jupyter.widget-view+json": {
       "model_id": "1487c6d15ffd4b109f524fecba6b916c",
       "version_major": 2,
       "version_minor": 0
      },
      "text/plain": [
       "HBox(children=(FloatProgress(value=0.0, max=600.0), HTML(value='')))"
      ]
     },
     "metadata": {},
     "output_type": "display_data"
    },
    {
     "name": "stdout",
     "output_type": "stream",
     "text": [
      "Epoch : 3 Loss : 1.828 Bleu : 7.4\n",
      "\n",
      "Bleu Score on Validation set : 8.9\n"
     ]
    },
    {
     "data": {
      "application/vnd.jupyter.widget-view+json": {
       "model_id": "782dab84fbc8484798b7e925e077fbca",
       "version_major": 2,
       "version_minor": 0
      },
      "text/plain": [
       "HBox(children=(FloatProgress(value=0.0, max=600.0), HTML(value='')))"
      ]
     },
     "metadata": {},
     "output_type": "display_data"
    },
    {
     "name": "stdout",
     "output_type": "stream",
     "text": [
      "Epoch : 4 Loss : 1.703 Bleu : 9.32\n",
      "\n",
      "Bleu Score on Validation set : 11.0\n"
     ]
    },
    {
     "data": {
      "application/vnd.jupyter.widget-view+json": {
       "model_id": "4635f9f09d574cf49c348271f0411fc0",
       "version_major": 2,
       "version_minor": 0
      },
      "text/plain": [
       "HBox(children=(FloatProgress(value=0.0, max=600.0), HTML(value='')))"
      ]
     },
     "metadata": {},
     "output_type": "display_data"
    },
    {
     "name": "stdout",
     "output_type": "stream",
     "text": [
      "Epoch : 5 Loss : 1.573 Bleu : 12.3\n",
      "\n",
      "Bleu Score on Validation set : 13.4\n"
     ]
    },
    {
     "data": {
      "application/vnd.jupyter.widget-view+json": {
       "model_id": "dd5b25453dcd46d2bb56995a126da8eb",
       "version_major": 2,
       "version_minor": 0
      },
      "text/plain": [
       "HBox(children=(FloatProgress(value=0.0, max=600.0), HTML(value='')))"
      ]
     },
     "metadata": {},
     "output_type": "display_data"
    },
    {
     "name": "stdout",
     "output_type": "stream",
     "text": [
      "Epoch : 6 Loss : 1.467 Bleu : 15.2\n",
      "\n",
      "Bleu Score on Validation set : 15.6\n"
     ]
    },
    {
     "data": {
      "application/vnd.jupyter.widget-view+json": {
       "model_id": "d08305a2914149169e49bf0d59107534",
       "version_major": 2,
       "version_minor": 0
      },
      "text/plain": [
       "HBox(children=(FloatProgress(value=0.0, max=600.0), HTML(value='')))"
      ]
     },
     "metadata": {},
     "output_type": "display_data"
    },
    {
     "name": "stdout",
     "output_type": "stream",
     "text": [
      "Epoch : 7 Loss : 1.395 Bleu : 17.9\n",
      "\n",
      "Bleu Score on Validation set : 18.4\n"
     ]
    },
    {
     "data": {
      "application/vnd.jupyter.widget-view+json": {
       "model_id": "d6a8e98e6dc34d9d8cad327a30072c96",
       "version_major": 2,
       "version_minor": 0
      },
      "text/plain": [
       "HBox(children=(FloatProgress(value=0.0, max=600.0), HTML(value='')))"
      ]
     },
     "metadata": {},
     "output_type": "display_data"
    },
    {
     "name": "stdout",
     "output_type": "stream",
     "text": [
      "Epoch : 8 Loss : 1.306 Bleu : 20.8\n",
      "\n",
      "Bleu Score on Validation set : 18.9\n"
     ]
    },
    {
     "data": {
      "application/vnd.jupyter.widget-view+json": {
       "model_id": "07843ca8b66c4d95850f68c66195fb1d",
       "version_major": 2,
       "version_minor": 0
      },
      "text/plain": [
       "HBox(children=(FloatProgress(value=0.0, max=600.0), HTML(value='')))"
      ]
     },
     "metadata": {},
     "output_type": "display_data"
    },
    {
     "name": "stdout",
     "output_type": "stream",
     "text": [
      "Epoch : 9 Loss : 1.220 Bleu : 23.7\n",
      "\n",
      "Bleu Score on Validation set : 23.1\n"
     ]
    },
    {
     "data": {
      "application/vnd.jupyter.widget-view+json": {
       "model_id": "f9e93eb0ff354dfb8eb27f0058f0aae9",
       "version_major": 2,
       "version_minor": 0
      },
      "text/plain": [
       "HBox(children=(FloatProgress(value=0.0, max=600.0), HTML(value='')))"
      ]
     },
     "metadata": {},
     "output_type": "display_data"
    },
    {
     "name": "stdout",
     "output_type": "stream",
     "text": [
      "Epoch : 10 Loss : 1.150 Bleu : 26.3\n",
      "\n",
      "Bleu Score on Validation set : 24.7\n"
     ]
    },
    {
     "data": {
      "application/vnd.jupyter.widget-view+json": {
       "model_id": "1ce30a36ed55490db5ee0cd7841225d1",
       "version_major": 2,
       "version_minor": 0
      },
      "text/plain": [
       "HBox(children=(FloatProgress(value=0.0, max=600.0), HTML(value='')))"
      ]
     },
     "metadata": {},
     "output_type": "display_data"
    },
    {
     "name": "stdout",
     "output_type": "stream",
     "text": [
      "Epoch : 11 Loss : 1.072 Bleu : 29.8\n",
      "\n",
      "Bleu Score on Validation set : 29.0\n"
     ]
    },
    {
     "data": {
      "application/vnd.jupyter.widget-view+json": {
       "model_id": "acb34d6b63de409d8e28d8c7ec78f975",
       "version_major": 2,
       "version_minor": 0
      },
      "text/plain": [
       "HBox(children=(FloatProgress(value=0.0, max=600.0), HTML(value='')))"
      ]
     },
     "metadata": {},
     "output_type": "display_data"
    },
    {
     "name": "stdout",
     "output_type": "stream",
     "text": [
      "Epoch : 12 Loss : 1.046 Bleu : 31.7\n",
      "\n",
      "Bleu Score on Validation set : 27.9\n"
     ]
    },
    {
     "data": {
      "application/vnd.jupyter.widget-view+json": {
       "model_id": "450aaf0e20244e579207843b2826f509",
       "version_major": 2,
       "version_minor": 0
      },
      "text/plain": [
       "HBox(children=(FloatProgress(value=0.0, max=600.0), HTML(value='')))"
      ]
     },
     "metadata": {},
     "output_type": "display_data"
    },
    {
     "name": "stdout",
     "output_type": "stream",
     "text": [
      "Epoch : 13 Loss : 0.994 Bleu : 33.6\n",
      "\n",
      "Bleu Score on Validation set : 31.1\n"
     ]
    },
    {
     "data": {
      "application/vnd.jupyter.widget-view+json": {
       "model_id": "306851390b23468388ef91208c530005",
       "version_major": 2,
       "version_minor": 0
      },
      "text/plain": [
       "HBox(children=(FloatProgress(value=0.0, max=600.0), HTML(value='')))"
      ]
     },
     "metadata": {},
     "output_type": "display_data"
    },
    {
     "name": "stdout",
     "output_type": "stream",
     "text": [
      "Epoch : 14 Loss : 0.973 Bleu : 35.3\n",
      "\n",
      "Bleu Score on Validation set : 33.5\n"
     ]
    },
    {
     "data": {
      "application/vnd.jupyter.widget-view+json": {
       "model_id": "48f357b24fac4fb7bc27da33bae8153e",
       "version_major": 2,
       "version_minor": 0
      },
      "text/plain": [
       "HBox(children=(FloatProgress(value=0.0, max=600.0), HTML(value='')))"
      ]
     },
     "metadata": {},
     "output_type": "display_data"
    },
    {
     "name": "stdout",
     "output_type": "stream",
     "text": [
      "Epoch : 15 Loss : 0.926 Bleu : 37.5\n",
      "\n",
      "Bleu Score on Validation set : 35.9\n"
     ]
    },
    {
     "data": {
      "application/vnd.jupyter.widget-view+json": {
       "model_id": "983f211020de4a369ad5acbd39add975",
       "version_major": 2,
       "version_minor": 0
      },
      "text/plain": [
       "HBox(children=(FloatProgress(value=0.0, max=600.0), HTML(value='')))"
      ]
     },
     "metadata": {},
     "output_type": "display_data"
    },
    {
     "name": "stdout",
     "output_type": "stream",
     "text": [
      "Epoch : 16 Loss : 0.884 Bleu : 40.4\n",
      "\n",
      "Bleu Score on Validation set : 43.0\n"
     ]
    },
    {
     "data": {
      "application/vnd.jupyter.widget-view+json": {
       "model_id": "f2572565f5824799a95c44a385cecb0f",
       "version_major": 2,
       "version_minor": 0
      },
      "text/plain": [
       "HBox(children=(FloatProgress(value=0.0, max=600.0), HTML(value='')))"
      ]
     },
     "metadata": {},
     "output_type": "display_data"
    },
    {
     "name": "stdout",
     "output_type": "stream",
     "text": [
      "Epoch : 17 Loss : 0.860 Bleu : 42.7\n",
      "\n",
      "Bleu Score on Validation set : 41.2\n"
     ]
    },
    {
     "data": {
      "application/vnd.jupyter.widget-view+json": {
       "model_id": "dce4eb2e1d884643a12122c749143343",
       "version_major": 2,
       "version_minor": 0
      },
      "text/plain": [
       "HBox(children=(FloatProgress(value=0.0, max=600.0), HTML(value='')))"
      ]
     },
     "metadata": {},
     "output_type": "display_data"
    },
    {
     "name": "stdout",
     "output_type": "stream",
     "text": [
      "Epoch : 18 Loss : 0.848 Bleu : 43.1\n",
      "\n",
      "Bleu Score on Validation set : 42.3\n"
     ]
    },
    {
     "data": {
      "application/vnd.jupyter.widget-view+json": {
       "model_id": "bc8e9be30a144310a1e34ffaf301060a",
       "version_major": 2,
       "version_minor": 0
      },
      "text/plain": [
       "HBox(children=(FloatProgress(value=0.0, max=600.0), HTML(value='')))"
      ]
     },
     "metadata": {},
     "output_type": "display_data"
    },
    {
     "name": "stdout",
     "output_type": "stream",
     "text": [
      "Epoch : 19 Loss : 0.826 Bleu : 44.4\n",
      "\n",
      "Bleu Score on Validation set : 41.8\n"
     ]
    },
    {
     "data": {
      "application/vnd.jupyter.widget-view+json": {
       "model_id": "32505bd11fd141b2b05a641882801a8e",
       "version_major": 2,
       "version_minor": 0
      },
      "text/plain": [
       "HBox(children=(FloatProgress(value=0.0, max=600.0), HTML(value='')))"
      ]
     },
     "metadata": {},
     "output_type": "display_data"
    },
    {
     "name": "stdout",
     "output_type": "stream",
     "text": [
      "Epoch : 20 Loss : 0.768 Bleu : 48.5\n",
      "\n",
      "Bleu Score on Validation set : 46.2\n"
     ]
    },
    {
     "data": {
      "application/vnd.jupyter.widget-view+json": {
       "model_id": "079a8afd84794b2885ed484337dbff95",
       "version_major": 2,
       "version_minor": 0
      },
      "text/plain": [
       "HBox(children=(FloatProgress(value=0.0, max=600.0), HTML(value='')))"
      ]
     },
     "metadata": {},
     "output_type": "display_data"
    },
    {
     "name": "stdout",
     "output_type": "stream",
     "text": [
      "Epoch : 21 Loss : 0.767 Bleu : 48.6\n",
      "\n",
      "Bleu Score on Validation set : 47.6\n"
     ]
    },
    {
     "data": {
      "application/vnd.jupyter.widget-view+json": {
       "model_id": "390bb67bc30e44eaa5ae411d45625a06",
       "version_major": 2,
       "version_minor": 0
      },
      "text/plain": [
       "HBox(children=(FloatProgress(value=0.0, max=600.0), HTML(value='')))"
      ]
     },
     "metadata": {},
     "output_type": "display_data"
    },
    {
     "name": "stdout",
     "output_type": "stream",
     "text": [
      "Epoch : 22 Loss : 0.736 Bleu : 50.0\n",
      "\n",
      "Bleu Score on Validation set : 51.7\n"
     ]
    },
    {
     "data": {
      "application/vnd.jupyter.widget-view+json": {
       "model_id": "0c290086d4584658acbd7c80e5ee6e2b",
       "version_major": 2,
       "version_minor": 0
      },
      "text/plain": [
       "HBox(children=(FloatProgress(value=0.0, max=600.0), HTML(value='')))"
      ]
     },
     "metadata": {},
     "output_type": "display_data"
    },
    {
     "name": "stdout",
     "output_type": "stream",
     "text": [
      "Epoch : 23 Loss : 0.730 Bleu : 51.0\n",
      "\n",
      "Bleu Score on Validation set : 52.0\n"
     ]
    },
    {
     "data": {
      "application/vnd.jupyter.widget-view+json": {
       "model_id": "9267b440cdf340408ab09c7663954d9d",
       "version_major": 2,
       "version_minor": 0
      },
      "text/plain": [
       "HBox(children=(FloatProgress(value=0.0, max=600.0), HTML(value='')))"
      ]
     },
     "metadata": {},
     "output_type": "display_data"
    },
    {
     "name": "stdout",
     "output_type": "stream",
     "text": [
      "Epoch : 24 Loss : 0.705 Bleu : 52.4\n",
      "\n",
      "Bleu Score on Validation set : 54.3\n"
     ]
    },
    {
     "data": {
      "application/vnd.jupyter.widget-view+json": {
       "model_id": "fa416119f3b343959cef7712fe150f83",
       "version_major": 2,
       "version_minor": 0
      },
      "text/plain": [
       "HBox(children=(FloatProgress(value=0.0, max=600.0), HTML(value='')))"
      ]
     },
     "metadata": {},
     "output_type": "display_data"
    },
    {
     "name": "stdout",
     "output_type": "stream",
     "text": [
      "Epoch : 25 Loss : 0.688 Bleu : 54.2\n",
      "\n",
      "Bleu Score on Validation set : 52.5\n"
     ]
    },
    {
     "data": {
      "application/vnd.jupyter.widget-view+json": {
       "model_id": "6ce5d61f5d00409cb41c6f7766674dcf",
       "version_major": 2,
       "version_minor": 0
      },
      "text/plain": [
       "HBox(children=(FloatProgress(value=0.0, max=600.0), HTML(value='')))"
      ]
     },
     "metadata": {},
     "output_type": "display_data"
    },
    {
     "name": "stdout",
     "output_type": "stream",
     "text": [
      "Epoch : 26 Loss : 0.650 Bleu : 56.1\n",
      "\n",
      "Bleu Score on Validation set : 53.5\n"
     ]
    },
    {
     "data": {
      "application/vnd.jupyter.widget-view+json": {
       "model_id": "6c9acea964ca421a87e7777c34199881",
       "version_major": 2,
       "version_minor": 0
      },
      "text/plain": [
       "HBox(children=(FloatProgress(value=0.0, max=600.0), HTML(value='')))"
      ]
     },
     "metadata": {},
     "output_type": "display_data"
    },
    {
     "name": "stdout",
     "output_type": "stream",
     "text": [
      "Epoch : 27 Loss : 0.642 Bleu : 57.3\n",
      "\n",
      "Bleu Score on Validation set : 52.9\n"
     ]
    },
    {
     "data": {
      "application/vnd.jupyter.widget-view+json": {
       "model_id": "e97966bb0bc34f5e98949ce773e09c9c",
       "version_major": 2,
       "version_minor": 0
      },
      "text/plain": [
       "HBox(children=(FloatProgress(value=0.0, max=600.0), HTML(value='')))"
      ]
     },
     "metadata": {},
     "output_type": "display_data"
    },
    {
     "name": "stdout",
     "output_type": "stream",
     "text": [
      "Epoch : 28 Loss : 0.608 Bleu : 59.2\n",
      "\n",
      "Bleu Score on Validation set : 59.9\n"
     ]
    },
    {
     "data": {
      "application/vnd.jupyter.widget-view+json": {
       "model_id": "9e5b2941064c492cb093db71bc3509ff",
       "version_major": 2,
       "version_minor": 0
      },
      "text/plain": [
       "HBox(children=(FloatProgress(value=0.0, max=600.0), HTML(value='')))"
      ]
     },
     "metadata": {},
     "output_type": "display_data"
    },
    {
     "name": "stdout",
     "output_type": "stream",
     "text": [
      "Epoch : 29 Loss : 0.598 Bleu : 60.1\n",
      "\n",
      "Bleu Score on Validation set : 54.4\n"
     ]
    },
    {
     "data": {
      "application/vnd.jupyter.widget-view+json": {
       "model_id": "8f6d489f44fb4406af7d5fc989822707",
       "version_major": 2,
       "version_minor": 0
      },
      "text/plain": [
       "HBox(children=(FloatProgress(value=0.0, max=600.0), HTML(value='')))"
      ]
     },
     "metadata": {},
     "output_type": "display_data"
    },
    {
     "name": "stdout",
     "output_type": "stream",
     "text": [
      "Epoch : 30 Loss : 0.587 Bleu : 60.4\n",
      "\n",
      "Bleu Score on Validation set : 58.1\n",
      "\n"
     ]
    }
   ],
   "source": [
    "for epoch in tqdm(range(30)):\n",
    "    loader = get_loader(train_data, batch_sizes, boundaries, pad_value = 0)\n",
    "    \n",
    "    epoch_loss = 0\n",
    "    epoch_bleu_score = 0\n",
    "    for j, (X, Y) in enumerate(tqdm(loader, total = 600)):\n",
    "        X = X.to(device)\n",
    "        Y = Y.to(device)\n",
    "        \n",
    "        enc_opt.zero_grad()\n",
    "        dec_opt.zero_grad()\n",
    "\n",
    "        enc_hidden = enc(X)\n",
    "        SOS = torch.LongTensor([[0] * len(Y)]).to(device)\n",
    "        hidden = enc_hidden\n",
    "        y_in = SOS.view(-1, 1)\n",
    "        book = []\n",
    "\n",
    "        use_teacher_forcing = np.random.uniform() <= 0.5\n",
    "\n",
    "        if use_teacher_forcing:\n",
    "            for i in range(Y.shape[1]):\n",
    "                out, hidden = dec(y_in, hidden)\n",
    "                book.append(out.squeeze(1))\n",
    "\n",
    "                y_in = Y[:, i].view(-1, 1)\n",
    "        else:\n",
    "            for i in range(Y.shape[1]):\n",
    "                out, hidden = dec(y_in, hidden)\n",
    "                book.append(out.squeeze(1))\n",
    "\n",
    "                _, next_in = out.topk(1)\n",
    "                y_in = next_in\n",
    "\n",
    "        pred = torch.stack(book, dim = 1)\n",
    "\n",
    "        pred = pred.permute(0, 2, 1)\n",
    "        cost = loss(pred, Y)\n",
    "        cost.backward()\n",
    "\n",
    "        enc_opt.step()\n",
    "        dec_opt.step()\n",
    "\n",
    "        _, pred_idx = pred.topk(1, dim = 1)\n",
    "\n",
    "        candidate = pred_idx.squeeze(1)\n",
    "        reference = Y\n",
    "\n",
    "        cand = format_for_bleu_score(candidate.cpu(), word2idx, is_ref=False)\n",
    "        refe = format_for_bleu_score(reference.cpu(), word2idx, is_ref=True)\n",
    "        \n",
    "        bleu_score = corpus_bleu(refe, cand, smoothing_function=chencherry.method1)\n",
    "\n",
    "        epoch_loss += cost.item()\n",
    "        epoch_bleu_score += bleu_score\n",
    "        \n",
    "        print(f\"Epoch : {epoch + 1} Loss : {epoch_loss / (j + 1):.3f} Bleu : {epoch_bleu_score * 100 / (j + 1):.1f}\", end='\\r')\n",
    "    \n",
    "    \n",
    "    test_loader = get_loader(test_data, batch_sizes, boundaries, pad_value = 0)\n",
    "    val_bleu, val_loss = run_val_set(test_loader, enc, dec, loss)\n",
    "    \n",
    "    metrics.update_book(epoch_loss / (j + 1), val_loss, epoch_bleu_score * 100 / (j + 1), val_bleu * 100)\n",
    "    \n",
    "    print(f\"\\nBleu Score on Validation set : {val_bleu * 100:.1f}\")"
   ]
  },
  {
   "cell_type": "code",
   "execution_count": 17,
   "metadata": {},
   "outputs": [
    {
     "data": {
      "image/png": "[encoded data removed]",
      "text/plain": [
       "<Figure size 432x288 with 1 Axes>"
      ]
     },
     "metadata": {
      "needs_background": "light"
     },
     "output_type": "display_data"
    }
   ],
   "source": [
    "metrics.plot_loss()"
   ]
  },
  {
   "cell_type": "code",
   "execution_count": 18,
   "metadata": {},
   "outputs": [
    {
     "data": {
      "image/png": "[encoded data removed]",
      "text/plain": [
       "<Figure size 432x288 with 1 Axes>"
      ]
     },
     "metadata": {
      "needs_background": "light"
     },
     "output_type": "display_data"
    }
   ],
   "source": [
    "metrics.plot_bleu()"
   ]
  },
  {
   "cell_type": "code",
   "execution_count": null,
   "metadata": {},
   "outputs": [],
   "source": []
  }
 ],
 "metadata": {
  "kernelspec": {
   "display_name": "Python 3",
   "language": "python",
   "name": "python3"
  },
  "language_info": {
   "codemirror_mode": {
    "name": "ipython",
    "version": 3
   },
   "file_extension": ".py",
   "mimetype": "text/x-python",
   "name": "python",
   "nbconvert_exporter": "python",
   "pygments_lexer": "ipython3",
   "version": "3.8.3"
  }
 },
 "nbformat": 4,
 "nbformat_minor": 4
}
